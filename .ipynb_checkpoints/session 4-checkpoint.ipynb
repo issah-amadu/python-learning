{
 "cells": [
  {
   "cell_type": "code",
   "execution_count": null,
   "id": "420adf7b-2bf0-4b35-9d4b-db96b7ad40a9",
   "metadata": {},
   "outputs": [
    {
     "name": "stdout",
     "output_type": "stream",
     "text": [
      "type:1.python 2.java 3.HMTL 4.swift 5.c++\n"
     ]
    }
   ],
   "source": [
    "print('type:1.python 2.java 3.HMTL 4.swift 5.c++')\n",
    "choice=input('type your choice')"
   ]
  },
  {
   "cell_type": "markdown",
   "id": "5afe3117-3b16-49d4-83cf-3b2edf7dfc17",
   "metadata": {},
   "source": [
    "if choice == 1:\n",
    "    print('welcome to python course:')\n",
    "elif choice == 2:\n",
    "    print('welcome to java course:')\n",
    "elif choice == 3:\n",
    "     print('welcome to HMTL course:')\n",
    "elif choice == 4:\n",
    "    print('welcome to swift course:')\n",
    "elif choice == 5:\n",
    "    print('welcome to C++ course:') \n",
    "else \n",
    "    print('invalid input')"
   ]
  }
 ],
 "metadata": {
  "kernelspec": {
   "display_name": "Python 3 (ipykernel)",
   "language": "python",
   "name": "python3"
  },
  "language_info": {
   "codemirror_mode": {
    "name": "ipython",
    "version": 3
   },
   "file_extension": ".py",
   "mimetype": "text/x-python",
   "name": "python",
   "nbconvert_exporter": "python",
   "pygments_lexer": "ipython3",
   "version": "3.13.2"
  }
 },
 "nbformat": 4,
 "nbformat_minor": 5
}
