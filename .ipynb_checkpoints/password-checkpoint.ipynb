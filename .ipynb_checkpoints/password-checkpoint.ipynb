{
 "cells": [
  {
   "cell_type": "code",
   "execution_count": 1,
   "id": "12db973a-4d08-4cf8-9c5e-7c3836028748",
   "metadata": {},
   "outputs": [
    {
     "name": "stdin",
     "output_type": "stream",
     "text": [
      "enter your name: Issa\n",
      "enter your cord: 125\n"
     ]
    }
   ],
   "source": [
    "name=input('enter your name:')\n",
    "cord=input('enter your cord:')"
   ]
  },
  {
   "cell_type": "code",
   "execution_count": 10,
   "id": "e9a0cea8-d270-48a0-97e5-f3024d7d842d",
   "metadata": {},
   "outputs": [
    {
     "name": "stdin",
     "output_type": "stream",
     "text": [
      "enter user name: Issa\n",
      "enter user cord: 125\n"
     ]
    }
   ],
   "source": [
    "name=input('enter user name:')\n",
    "cord=input('enter user cord:')"
   ]
  },
  {
   "cell_type": "code",
   "execution_count": null,
   "id": "9b547a24-56af-486d-8f98-a4510287e9d8",
   "metadata": {},
   "outputs": [],
   "source": [
    "if(name==name and cord==cord):\n",
    "    print('you are welcomed to the programe:')\n",
    "                "
   ]
  }
 ],
 "metadata": {
  "kernelspec": {
   "display_name": "Python 3 (ipykernel)",
   "language": "python",
   "name": "python3"
  },
  "language_info": {
   "codemirror_mode": {
    "name": "ipython",
    "version": 3
   },
   "file_extension": ".py",
   "mimetype": "text/x-python",
   "name": "python",
   "nbconvert_exporter": "python",
   "pygments_lexer": "ipython3",
   "version": "3.13.2"
  }
 },
 "nbformat": 4,
 "nbformat_minor": 5
}
