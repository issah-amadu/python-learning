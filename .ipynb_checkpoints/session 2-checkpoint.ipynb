{
 "cells": [
  {
   "cell_type": "code",
   "execution_count": null,
   "id": "dc17aba4-81b7-4bfc-a9b3-aa06dd163766",
   "metadata": {},
   "outputs": [],
   "source": []
  },
  {
   "cell_type": "code",
   "execution_count": 3,
   "id": "b23176c1-13e7-48b5-bc64-9b34c33fbecb",
   "metadata": {},
   "outputs": [
    {
     "name": "stdout",
     "output_type": "stream",
     "text": [
      "Canada Mexico\n"
     ]
    }
   ],
   "source": [
    "COUNTRY=\"Canada\"\n",
    "country=\"Mexico\"\n",
    "print(COUNTRY,country)"
   ]
  },
  {
   "cell_type": "code",
   "execution_count": 2,
   "id": "4fc2ab5b-a7e7-49a2-b728-8feebd075803",
   "metadata": {},
   "outputs": [
    {
     "name": "stdout",
     "output_type": "stream",
     "text": [
      "Final score: 95\n"
     ]
    }
   ],
   "source": [
    "score=95\n",
    "print(\"Final score:\",score)"
   ]
  },
  {
   "cell_type": "code",
   "execution_count": 14,
   "id": "3b869be5-3259-4a1f-b0ec-6cc8b1f7ed61",
   "metadata": {},
   "outputs": [
    {
     "name": "stdout",
     "output_type": "stream",
     "text": [
      "19\n"
     ]
    }
   ],
   "source": [
    "a=15\n",
    "b=4\n",
    "a=a+b\n",
    "print(a)"
   ]
  },
  {
   "cell_type": "code",
   "execution_count": 15,
   "id": "42e32d7b-fcd0-43af-96cf-895348e39771",
   "metadata": {},
   "outputs": [
    {
     "name": "stdout",
     "output_type": "stream",
     "text": [
      "23\n"
     ]
    }
   ],
   "source": [
    "b=a+b\n",
    "print(b)"
   ]
  },
  {
   "cell_type": "raw",
   "id": "940c57ce-2815-4229-938c-22cce787c4d2",
   "metadata": {},
   "source": [
    "score=95\n",
    "score=stri(score)\n"
   ]
  },
  {
   "cell_type": "code",
   "execution_count": 19,
   "id": "c93280d1-44c9-4f41-9977-e1597faf3c25",
   "metadata": {},
   "outputs": [
    {
     "name": "stdout",
     "output_type": "stream",
     "text": [
      "final score: 95\n"
     ]
    }
   ],
   "source": [
    "print(\"final score:\",score)"
   ]
  },
  {
   "cell_type": "code",
   "execution_count": 21,
   "id": "a5ff1538-2f09-4fbb-9bab-eebe71b8f690",
   "metadata": {},
   "outputs": [],
   "source": [
    "name,age,student='issa',22,True"
   ]
  },
  {
   "cell_type": "code",
   "execution_count": null,
   "id": "e251261e-71b5-45c2-92ce-d41b68df8779",
   "metadata": {},
   "outputs": [],
   "source": []
  }
 ],
 "metadata": {
  "kernelspec": {
   "display_name": "Python 3 (ipykernel)",
   "language": "python",
   "name": "python3"
  },
  "language_info": {
   "codemirror_mode": {
    "name": "ipython",
    "version": 3
   },
   "file_extension": ".py",
   "mimetype": "text/x-python",
   "name": "python",
   "nbconvert_exporter": "python",
   "pygments_lexer": "ipython3",
   "version": "3.13.2"
  }
 },
 "nbformat": 4,
 "nbformat_minor": 5
}
