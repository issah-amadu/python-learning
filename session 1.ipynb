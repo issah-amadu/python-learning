{
 "cells": [
  {
   "cell_type": "code",
   "execution_count": 2,
   "id": "99b3b73a-928d-4407-9bcf-783e924fa53b",
   "metadata": {
    "scrolled": true
   },
   "outputs": [],
   "source": [
    "third_place=\"bronze\""
   ]
  },
  {
   "cell_type": "code",
   "execution_count": 13,
   "id": "2ca1fd1b-76b8-4249-b0ae-11b332abf6c9",
   "metadata": {},
   "outputs": [
    {
     "name": "stdout",
     "output_type": "stream",
     "text": [
      "7\n"
     ]
    }
   ],
   "source": [
    "x=5\n",
    "y=7\n",
    "x=y\n",
    "print(x)"
   ]
  },
  {
   "cell_type": "code",
   "execution_count": 19,
   "id": "0ca129a1-a611-49bc-8420-7d5f8586a42b",
   "metadata": {},
   "outputs": [
    {
     "name": "stdout",
     "output_type": "stream",
     "text": [
      "5\n"
     ]
    }
   ],
   "source": [
    "x=5\n",
    "y=7\n",
    "y=x\n",
    "print(y)"
   ]
  },
  {
   "cell_type": "code",
   "execution_count": 16,
   "id": "e1d1ca28-d4d7-4289-b233-87a48080c144",
   "metadata": {},
   "outputs": [
    {
     "name": "stdout",
     "output_type": "stream",
     "text": [
      "False\n"
     ]
    }
   ],
   "source": [
    "temperature=28\n",
    "is_hot=temperature>30\n",
    "print(is_hot)"
   ]
  },
  {
   "cell_type": "code",
   "execution_count": null,
   "id": "ca0fe70e-b91c-4c24-98e0-6d40e904e2ec",
   "metadata": {},
   "outputs": [],
   "source": [
    "COUNTRY='canada'\n",
    "country='mexco"
   ]
  }
 ],
 "metadata": {
  "kernelspec": {
   "display_name": "Python 3 (ipykernel)",
   "language": "python",
   "name": "python3"
  },
  "language_info": {
   "codemirror_mode": {
    "name": "ipython",
    "version": 3
   },
   "file_extension": ".py",
   "mimetype": "text/x-python",
   "name": "python",
   "nbconvert_exporter": "python",
   "pygments_lexer": "ipython3",
   "version": "3.13.2"
  }
 },
 "nbformat": 4,
 "nbformat_minor": 5
}
