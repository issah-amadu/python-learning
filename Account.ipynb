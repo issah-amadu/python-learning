{
 "cells": [
  {
   "cell_type": "code",
   "execution_count": null,
   "id": "4f9458db-11d1-4bd6-ae2e-9458876c6273",
   "metadata": {},
   "outputs": [],
   "source": [
    "count=2010\n",
    "while(count<2050):\n",
    "    print(f\"{count}\")\n",
    "    count=count + 1"
   ]
  },
  {
   "cell_type": "code",
   "execution_count": null,
   "id": "1b07b722-1957-4c43-aa65-d7407939ba6f",
   "metadata": {
    "scrolled": true
   },
   "outputs": [],
   "source": [
    "guessed_number=8\n",
    "task=int(input(\"guess anumber\"))\n",
    "while True:\n",
    "    if task==guessed_number:\n",
    "        print(\"it is too big\")\n",
    "else:\n",
    "        print(\"it is too small\")\n",
    "    \n",
    "         "
   ]
  },
  {
   "cell_type": "code",
   "execution_count": null,
   "id": "45b1e561-6a78-4e0a-8ed5-7a0c1aa6a7e2",
   "metadata": {},
   "outputs": [],
   "source": [
    "password=input(\"enter inyour password:\")\n",
    "has_uppercase=False\n",
    "has_lowercase=False\n",
    "has_digit=False"
   ]
  },
  {
   "cell_type": "code",
   "execution_count": null,
   "id": "c84f51d6-b146-4242-814c-b9d54fa14be0",
   "metadata": {},
   "outputs": [],
   "source": [
    "for char in password:\n",
    "    password_length+=1\n",
    "if \"I\"<=char<=\"Z\":\n",
    "    has_uppercase=True\n",
    "if \"s\"<=char<=\"z\":\n",
    "    has_lowercase=True\n",
    "if\"2\"<=char<=\"9\":\n",
    "    has_digit=True\n",
    "if char==password:\n",
    "    print(\"strong password\")\n",
    "elif\n",
    "    print(\"weak password\")\n",
    "else:\n",
    "    print(\"try again\")"
   ]
  },
  {
   "cell_type": "code",
   "execution_count": null,
   "id": "0f76d7d5-0e83-4786-bb9e-77ce1396e1ae",
   "metadata": {},
   "outputs": [],
   "source": [
    "count=0\n",
    "for "
   ]
  },
  {
   "cell_type": "code",
   "execution_count": null,
   "id": "d189c240-1725-4602-a7ea-b7bfc4eb5e19",
   "metadata": {
    "scrolled": true
   },
   "outputs": [],
   "source": [
    "password=input(\"enter your password\")\n",
    "has_number=False\n",
    "has_lowercase=False\n",
    "has_uppercase=False\n",
    "pwd_length=0\n",
    "\n",
    "for  char in password:\n",
    "    pwd_length+=1\n",
    "    if \"A\" <= char <= \"Z\":\n",
    "        has_uppercase=True\n",
    "    elif \"a\" <= char <= \"z\":\n",
    "        has_lowercase=True\n",
    "    elif \"0\" <= char <= \"9\":\n",
    "        has_number=True\n",
    "if pwd_length<=8:\n",
    "    print(\"your pwd should atleast have 8 characters\")\n",
    "elif has_number and has_lowercase and has_uppercase:\n",
    "    print(\"strong password\")\n",
    "else:\n",
    "    print(\"weak password,your pasword should have atleast one uppercase,one lowercase and one digit\")"
   ]
  },
  {
   "cell_type": "code",
   "execution_count": null,
   "id": "b3b212a7-93f2-4209-abdb-54ae8d4f4309",
   "metadata": {},
   "outputs": [],
   "source": []
  },
  {
   "cell_type": "markdown",
   "id": "aa802da8-5327-45cf-9d84-3cf169cf4c97",
   "metadata": {},
   "source": [
    "password=input(\"enter your password\")\n",
    "has_number=False\n",
    "has_lowercase=False\n",
    "has_uppercase=False\n",
    "pwd_length=0\n",
    "\n",
    "for  char in password:\n",
    "    pwd_length+=1\n",
    "    if \"A\" <= char <= \"Z\":\n",
    "        has_uppercase=True\n",
    "    elif \"a\" <= char <= \"z\":\n",
    "        has_lowercase=True \n",
    "    elif \"0\" <= char <= \"9\":\n",
    "        has_number=True\n",
    "if pwd_length<=8:\n",
    "    print(\"your pwd should atleast have 8 characters\")\n",
    "elif has_number and has_lowercase and has_uppercase:\n",
    "    print(\"strong password\")\n",
    "else:\n",
    "    print(\"weak password,your pasword should have atleast one uppercase,one lowercase and one digit\")"
   ]
  },
  {
   "cell_type": "code",
   "execution_count": null,
   "id": "b970d58a-0f02-474a-ae2f-bb19234019f1",
   "metadata": {},
   "outputs": [],
   "source": [
    "number=int(input(\"enter number to be counted:\"))\n",
    "\n",
    "for num in range(10,1):\n",
    "    number=number-1\n",
    "    if\"10\">=num>=\"1\":\n",
    "        print(\"stop\")\n",
    "        break\n",
    "    if\"10\">=num<=\"1\":\n",
    "         print(\"time ended\")\n",
    "user_input(\"enter 1.to continue,enter 0.to exit:\")    \n",
    "if \"cont:\"\n",
    "        print(\"enter 1. to continue:\")\n",
    "else\" exit:\n",
    "        print(\"enter 0.to exit:\")"
   ]
  },
  {
   "cell_type": "code",
   "execution_count": null,
   "id": "28718424-bdb8-4751-949f-c1d3f41f84b8",
   "metadata": {},
   "outputs": [],
   "source": [
    "a=5\n",
    "b=10\n",
    "a=a+b\n",
    "b=a-b\n",
    "a=a-b\n",
    "print(a,b)"
   ]
  },
  {
   "cell_type": "code",
   "execution_count": null,
   "id": "93dfb441-29e0-458f-b7f3-9b1cd892145f",
   "metadata": {},
   "outputs": [],
   "source": [
    "number=int(input(\"enter number:\"))\n",
    "if number > 0:\n",
    "    print(\"positive\")\n",
    "elif number < 0:\n",
    "    print(\"negative\")\n",
    "else:\n",
    "    print(\"zero\""
   ]
  },
  {
   "cell_type": "code",
   "execution_count": null,
   "id": "a4526539-e88a-4dac-9e63-49b928694f7c",
   "metadata": {},
   "outputs": [],
   "source": [
    "\n",
    "score_number=int(input(\"enter any score to check either is odd or not:\"))\n",
    "even_number=score_number%2==0\n",
    "odd_number=score_number%2!=0\n",
    "if even_number:\n",
    "    print(\"even\")\n",
    "elif odd_number:\n",
    "    print(\"odd\")\n",
    "else:\n",
    "    print(\"try again\")\n",
    "    \n",
    "\n"
   ]
  },
  {
   "cell_type": "code",
   "execution_count": null,
   "id": "865ed3ce-73d4-457b-9abb-a36a6b8f8517",
   "metadata": {},
   "outputs": [],
   "source": [
    "step1=int(input(\"enter any number 1:\"))\n",
    "step2=int(input(\"enter any number 2:\"))\n",
    "step3=int(input(\"enter any number 3:\"))\n",
    "if step1>step2:\n",
    "        print(\"largest\")\n",
    "elif step3<step2:\n",
    "        print(\"smallest\")\n",
    "else:\n",
    "        print(\"show again\")\n"
   ]
  },
  {
   "cell_type": "code",
   "execution_count": null,
   "id": "1c5c91dd-6081-477e-a210-73bbb2f766b7",
   "metadata": {},
   "outputs": [],
   "source": [
    "number=int(input(\"enter any number:\"))\n",
    "for i in range(1,10):\n",
    "    results=number*i\n",
    "    print(f\"{results}\")"
   ]
  },
  {
   "cell_type": "code",
   "execution_count": null,
   "id": "89d1ec63-e65b-428b-b74a-eaed418ed9dd",
   "metadata": {},
   "outputs": [],
   "source": [
    "\n",
    "\n",
    "number=input(\"enter number:\")\n",
    "count=0\n",
    "while sum:\n",
    "    count=count+1\n",
    "    print(f\"{sum}\")\n",
    "    "
   ]
  },
  {
   "cell_type": "code",
   "execution_count": null,
   "id": "b5181101-8a4b-4b6c-82cd-c725eee2a801",
   "metadata": {},
   "outputs": [],
   "source": [
    "i=0\n",
    "for number in range(1,100):\n",
    "    number=number/7\n",
    "    print(number)\n",
    "    if (number<=100):\n",
    "        break"
   ]
  },
  {
   "cell_type": "code",
   "execution_count": null,
   "id": "4c1e00ca-1d67-46cc-a6d0-6eb6536bdb14",
   "metadata": {},
   "outputs": [],
   "source": [
    "(counting number of words)\n",
    "words=\"paragraph\"\n",
    "count=0\n",
    "for char in words:\n",
    "    count+=1\n",
    "    print(f\"{count}\")"
   ]
  },
  {
   "cell_type": "code",
   "execution_count": null,
   "id": "362add4f-f839-4a0a-900b-6e5045f01d8e",
   "metadata": {},
   "outputs": [],
   "source": [
    "\n",
    "word=input(\"enter a word\")\n",
    "for i in word:\n",
    "    if i in \"a,e,i,o,u\":\n",
    "        print(i)"
   ]
  },
  {
   "cell_type": "code",
   "execution_count": null,
   "id": "11bc8d21-5d69-441f-ad4e-bfcd34816e8f",
   "metadata": {},
   "outputs": [],
   "source": [
    "def check_weather(temperature):\n",
    "    if  temperature<0:\n",
    "        \n",
    "        return(\"its freezing! stay  warm!\")\n",
    "    elif temperature>0 and temperature<15:\n",
    "        return(\"its chilly outside.wear a jacket\")\n",
    "    elif temperature>16 and temperature<25:\n",
    "        return(\"perfect weather for a walk!\")\n",
    "    else:\n",
    "        return(\"try again\")"
   ]
  },
  {
   "cell_type": "code",
   "execution_count": null,
   "id": "35b8b5ee-3e80-4951-baec-6c837896f8d1",
   "metadata": {},
   "outputs": [],
   "source": [
    "def track_water_intake():\n",
    "    prompt=int(input(\"enter number of glasses of water drunked to day\"))\n",
    "    daily_goal=2\n",
    "    one_glass=250\n",
    "    numbe_of_glasses=8\n",
    "    total_number_of_water=250*8\n",
    "    if prompt==daily_goal:\n",
    "        print(\"you met daily need\")\n",
    "    elif prompt<daily_goal:    \n",
    "        print(\"you don't met daily need\")\n",
    "    else:    \n",
    "        print(\"is_instances daily_goal,prompt\")"
   ]
  },
  {
   "cell_type": "code",
   "execution_count": null,
   "id": "fccda4a1-f240-44da-85d3-3347b3c9d5a8",
   "metadata": {},
   "outputs": [],
   "source": [
    "def search_contact(contact:dict,query:str):\n",
    "    if query in contact:\n",
    "        print(\"contact{query}\")\n",
    "    else:\n",
    "        print(\"contact not found\")         "
   ]
  },
  {
   "cell_type": "code",
   "execution_count": null,
   "id": "e28e3a64-b4e1-4e31-9d1b-b3b756a29088",
   "metadata": {},
   "outputs": [],
   "source": [
    "\n",
    "\n",
    "num=float(10)\n",
    "print(num)"
   ]
  },
  {
   "cell_type": "code",
   "execution_count": null,
   "id": "a2f0dd63-812d-4643-ba15-c8a8822047d1",
   "metadata": {},
   "outputs": [],
   "source": [
    "a=5\n",
    "b=2.5\n",
    "c='hello'\n",
    "type(a)"
   ]
  },
  {
   "cell_type": "code",
   "execution_count": null,
   "id": "b8e32d03-29d1-4a51-9cc1-5e57622a304e",
   "metadata": {},
   "outputs": [],
   "source": [
    "type(b)"
   ]
  },
  {
   "cell_type": "code",
   "execution_count": null,
   "id": "72753220-5649-4816-8eb6-705abaac4f77",
   "metadata": {},
   "outputs": [],
   "source": [
    "type (c)"
   ]
  },
  {
   "cell_type": "code",
   "execution_count": null,
   "id": "4cd35868-8110-4113-971d-bd7276c6c1c6",
   "metadata": {},
   "outputs": [],
   "source": [
    "text=\"python\"\n",
    "print(text[3])"
   ]
  },
  {
   "cell_type": "code",
   "execution_count": null,
   "id": "50bb9b0d-ff47-4555-bc2e-f18d422ceaef",
   "metadata": {},
   "outputs": [],
   "source": [
    "age=25\n",
    "print(age+5)"
   ]
  },
  {
   "cell_type": "code",
   "execution_count": null,
   "id": "e04cb3f1-425d-4e98-bce3-066fb245b591",
   "metadata": {},
   "outputs": [],
   "source": [
    "airtelmoney_program:"
   ]
  },
  {
   "cell_type": "code",
   "execution_count": null,
   "id": "a05e066b-e193-48e5-839c-b17d0a5b6b26",
   "metadata": {},
   "outputs": [],
   "source": [
    "def buy_airtime_bundles():\n",
    "      \n",
    "        choice=int(input('enter your choice'))\n",
    "        choices={'1.airtime,2.bundles'}\n",
    "\n",
    "        if choice==1:\n",
    "                airtime=int(input('enter amount of airtime to buy'))\n",
    "                print('you have successflly purchase the airtime')\n",
    "        if choice==2:\n",
    "                print(\"1:daily,2:weekly,3:monthly\",)\n",
    "                option=int(input('enter the bundle you want to purchase(1-3):'))\n",
    "                if option>0 or option<3:\n",
    "                        choice=input('enter the area to pay with{1-2}:')\n",
    "                        print(\"1:airtime,2:airtelmoney\",) \n",
    "                        for  i in choices :\n",
    "                            pin=input(\"enter pin to comfirm buying\")\n",
    "                            pin_cord=2019\n",
    "                            if pin==pin_cord:\n",
    "                                   print(f'you have successiflly purchase the daily bundle.your new balance is[airtime]')\n",
    "                        else:\n",
    "                                print('Dear customer you have entered invalid pin please try again')\n",
    "                                "
   ]
  },
  {
   "cell_type": "code",
   "execution_count": null,
   "id": "dd8758d0-6c55-40a0-ab2f-edf8fd02ddd1",
   "metadata": {},
   "outputs": [],
   "source": [
    "def withdrawal():\n",
    "    amount_of_money_in_acount=10000\n",
    "    amount=float(input('entered amount of money to withdrawal:'))\n",
    "    remaining_amount=(['{total_amount_of_money_in_account}-{entered amount to withdrawal}'])\n",
    "    pin=int(input('enter pin to confirm withdrawal:'))\n",
    "    pin_cord=2019\n",
    "    if pin==pin_cord:\n",
    "         print(f'you have successiflly withdrawal[{amount}]')\n",
    "    else:\n",
    "         print('you entered incorrect pin.please! try again')\n",
    "         "
   ]
  },
  {
   "cell_type": "code",
   "execution_count": null,
   "id": "e92455a8-8f36-43fc-b2de-b5cd46e7f42f",
   "metadata": {},
   "outputs": [],
   "source": [
    "def send_money():\n",
    "    choice=input('select number you want to send:')\n",
    "    amount=float(input('enter amount of money to send:'))\n",
    "    option=('1.for airtel number,2.for TNM number')\n",
    "    number=input('enter the number')\n",
    "    pin_code=2019\n",
    "    pin=int(input('enter pin to comfirm sending money'))\n",
    "    if pin==pin_code:\n",
    "        print('sending money to airtel number is completed')\n",
    "    elif choice==1:\n",
    "        print('sending money to TNM number is successiful')\n",
    "    elif choice==2:\n",
    "        print('sending money to airtel number is successiful')\n",
    "    else:\n",
    "        print('you entered incorrect pin.please! try again')\n",
    "                                       "
   ]
  },
  {
   "cell_type": "code",
   "execution_count": null,
   "id": "54d8a6e4-697e-4861-be59-3ea389bf70f7",
   "metadata": {},
   "outputs": [],
   "source": [
    "def check_balance():\n",
    "    available_amount=1000\n",
    "    pin=int(input('enter pin to check balance:'))\n",
    "    pin_code=2019\n",
    "    if pin_code==pin:\n",
    "        print(f'your balance is [{available_amount}]MK')\n",
    "    elif pin_code>pin:\n",
    "        print('you entered too shot pwd')\n",
    "    elif pin_code<pin:\n",
    "        print('you entered long pwd')\n",
    "    else:\n",
    "        print('try again')\n",
    "       "
   ]
  },
  {
   "cell_type": "code",
   "execution_count": null,
   "id": "a2a6b9f4-2c53-49bc-82a0-786936c62d51",
   "metadata": {},
   "outputs": [],
   "source": [
    "def exit_program():\n",
    "    exit_code=input('enter the code to exit in our program:')\n",
    "    code=0\n",
    "    if exit_code==code:\n",
    "        print('thank you for visiting us')\n",
    "    else:\n",
    "        print('try again')\n"
   ]
  },
  {
   "cell_type": "code",
   "execution_count": null,
   "id": "eddf66f5-2aee-4b4b-b34f-06dd30ce1858",
   "metadata": {
    "scrolled": true
   },
   "outputs": [],
   "source": [
    "def display_menu():\n",
    "    print(\"1.Buy_airtime\")\n",
    "    print(\"2.withdrawal\")\n",
    "    print(\"3.send_money\")\n",
    "    print(\"4.check_balance \")\n",
    "    print(\"5.exit_program\")\n",
    "user_choice=int(input('enter your choice:'))\n",
    "if user_choice==1:\n",
    "    buy_airtime_bundles()\n",
    "if user_choice==2:\n",
    "    withdrawal()\n",
    "if user_choice==3:\n",
    "    send_money()\n",
    "if user_choice==4:\n",
    "    check_balance()\n",
    "if user_choice==5:\n",
    "    exit_program()\n",
    "    \n",
    "\n",
    "display_menu()        "
   ]
  },
  {
   "cell_type": "code",
   "execution_count": null,
   "id": "c436ca33-56cd-4bf4-81e8-57baf0dffb5e",
   "metadata": {},
   "outputs": [],
   "source": [
    "def starting_code():\n",
    "    code=input(\"enter the code to get the menu(*211#):\")\n",
    "\n",
    "starting_code()"
   ]
  },
  {
   "cell_type": "code",
   "execution_count": null,
   "id": "cf971c9b-7d85-44c4-820a-1b93a162f9a3",
   "metadata": {},
   "outputs": [],
   "source": [
    "rows=5\n",
    "for i in range(rows):\n",
    "    for j in range(rows  - i -1):\n",
    "        print(\" \",end=\" \")\n",
    "    for k in range(2 * i + 1):\n",
    "        print(\"*\",end=\" \",)\n",
    "    print()    "
   ]
  },
  {
   "cell_type": "code",
   "execution_count": null,
   "id": "3ea294d6-765b-49ea-aca1-e5350d6873e1",
   "metadata": {},
   "outputs": [],
   "source": []
  }
 ],
 "metadata": {
  "kernelspec": {
   "display_name": "Python 3 (ipykernel)",
   "language": "python",
   "name": "python3"
  },
  "language_info": {
   "codemirror_mode": {
    "name": "ipython",
    "version": 3
   },
   "file_extension": ".py",
   "mimetype": "text/x-python",
   "name": "python",
   "nbconvert_exporter": "python",
   "pygments_lexer": "ipython3",
   "version": "3.13.2"
  }
 },
 "nbformat": 4,
 "nbformat_minor": 5
}
