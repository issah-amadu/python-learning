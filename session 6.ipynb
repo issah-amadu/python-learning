{
 "cells": [
  {
   "cell_type": "code",
   "execution_count": 2,
   "id": "c14dcefe-07e2-422b-875e-7c109c8e680d",
   "metadata": {},
   "outputs": [
    {
     "name": "stdin",
     "output_type": "stream",
     "text": [
      "enter value: 100\n"
     ]
    }
   ],
   "source": [
    "value=input('enter value:')"
   ]
  },
  {
   "cell_type": "code",
   "execution_count": 3,
   "id": "3d103286-ef46-4728-a0a5-7f23aba8b0a6",
   "metadata": {},
   "outputs": [
    {
     "name": "stdin",
     "output_type": "stream",
     "text": [
      "type temperature value: 28\n"
     ]
    }
   ],
   "source": [
    "temperature=input('type temperature value:')"
   ]
  },
  {
   "cell_type": "code",
   "execution_count": 4,
   "id": "f78fcb2c-dd2b-45b7-9748-045a1035e771",
   "metadata": {},
   "outputs": [
    {
     "name": "stdin",
     "output_type": "stream",
     "text": [
      "type value of weight: 75.5\n"
     ]
    }
   ],
   "source": [
    "weigh=input('type value of weight:')"
   ]
  },
  {
   "cell_type": "code",
   "execution_count": 10,
   "id": "26d4400a-78b5-4de3-b2be-a09d5cd73b61",
   "metadata": {
    "scrolled": true
   },
   "outputs": [],
   "source": [
    "a=15\n",
    "b=4\n",
    "a=a*b\n",
    "b=a/b\n",
    "a=a/b\n",
    "print(a,b)"
   ]
  },
  {
   "cell_type": "code",
   "execution_count": 11,
   "id": "8f51bc04-b31f-4983-95c5-25fb6e697e6f",
   "metadata": {},
   "outputs": [
    {
     "name": "stdin",
     "output_type": "stream",
     "text": [
      "type the results: 4.0,15.0\n"
     ]
    }
   ],
   "source": [
    "variable=input('type the results:')"
   ]
  },
  {
   "cell_type": "code",
   "execution_count": 12,
   "id": "df580e8a-6bc1-48b5-9009-e89234f8adc4",
   "metadata": {},
   "outputs": [
    {
     "name": "stdin",
     "output_type": "stream",
     "text": [
      "provide the score value: 95\n"
     ]
    }
   ],
   "source": [
    "score=input('provide the score value:')"
   ]
  },
  {
   "cell_type": "code",
   "execution_count": 13,
   "id": "1bdcee6e-5671-4a42-90df-1055677b018f",
   "metadata": {},
   "outputs": [
    {
     "name": "stdin",
     "output_type": "stream",
     "text": [
      "type the results: 32.5\n"
     ]
    }
   ],
   "source": [
    "result=input('type the results:') "
   ]
  },
  {
   "cell_type": "code",
   "execution_count": 14,
   "id": "a24bc5f3-ed6b-43ab-942c-cb3538868124",
   "metadata": {
    "scrolled": true
   },
   "outputs": [
    {
     "name": "stdin",
     "output_type": "stream",
     "text": [
      "enter height value: 183.7\n"
     ]
    }
   ],
   "source": [
    "height=input('enter height value:')"
   ]
  },
  {
   "cell_type": "code",
   "execution_count": null,
   "id": "8ddf5051-ae70-469e-a12d-3357aa4e585e",
   "metadata": {},
   "outputs": [],
   "source": [
    "        "
   ]
  }
 ],
 "metadata": {
  "kernelspec": {
   "display_name": "Python 3 (ipykernel)",
   "language": "python",
   "name": "python3"
  },
  "language_info": {
   "codemirror_mode": {
    "name": "ipython",
    "version": 3
   },
   "file_extension": ".py",
   "mimetype": "text/x-python",
   "name": "python",
   "nbconvert_exporter": "python",
   "pygments_lexer": "ipython3",
   "version": "3.13.2"
  }
 },
 "nbformat": 4,
 "nbformat_minor": 5
}
