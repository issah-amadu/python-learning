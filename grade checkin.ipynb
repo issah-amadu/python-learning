{
 "cells": [
  {
   "cell_type": "code",
   "execution_count": null,
   "id": "ebca2056-29a7-4491-aabe-e2b401918385",
   "metadata": {},
   "outputs": [],
   "source": [
    "marks=input(\"enter your marks\")\n",
    "if marks>=75:\n",
    "    print(\"excellent\")\n",
    "elif marks<80 and marks>75:\n",
    "    print(\"very good\")\n",
    "elif marks<=75 and marks>=60:\n",
    "    print(\"good\")\n",
    "elif marks<=60 and marks>=50:\n",
    "    print(\"average\")\n",
    "elif marks<50:\n",
    "    print(\"fail\")\n",
    "else:\n",
    "    print(\"enter marks >=80,<80 and >=75,<75 and >=60,=<60 and >=50,=<50\") "
   ]
  },
  {
   "cell_type": "code",
   "execution_count": null,
   "id": "28e3c814-a50a-46e9-8dc1-b1b8cbea6ad4",
   "metadata": {},
   "outputs": [],
   "source": [
    "i=2010\n",
    "while(i<2050):\n",
    "        print(f\"{i}\")\n",
    "\n",
    "    i="
   ]
  },
  {
   "cell_type": "code",
   "execution_count": null,
   "id": "a9bfe1e0-35bd-45b1-a4a2-93952ac99926",
   "metadata": {},
   "outputs": [],
   "source": []
  }
 ],
 "metadata": {
  "kernelspec": {
   "display_name": "Python 3 (ipykernel)",
   "language": "python",
   "name": "python3"
  },
  "language_info": {
   "codemirror_mode": {
    "name": "ipython",
    "version": 3
   },
   "file_extension": ".py",
   "mimetype": "text/x-python",
   "name": "python",
   "nbconvert_exporter": "python",
   "pygments_lexer": "ipython3",
   "version": "3.13.2"
  }
 },
 "nbformat": 4,
 "nbformat_minor": 5
}
