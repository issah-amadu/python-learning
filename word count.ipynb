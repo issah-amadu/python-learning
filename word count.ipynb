{
 "cells": [
  {
   "cell_type": "code",
   "execution_count": null,
   "id": "7db5d45a-9cc4-4f81-a37a-a32737f4b3aa",
   "metadata": {},
   "outputs": [],
   "source": [
    "paragraph=input(\"write a paragraph:\")\n",
    "count=0\n",
    "for char in paragraph:\n",
    "    if char == \" \" or char == \"\\n\":\n",
    "        count+=1\n",
    "print(f\"number of words are {count+1}\")"
   ]
  },
  {
   "cell_type": "code",
   "execution_count": null,
   "id": "0c8e9fb5-000a-4340-a27b-f5c650879744",
   "metadata": {},
   "outputs": [],
   "source": []
  }
 ],
 "metadata": {
  "kernelspec": {
   "display_name": "Python 3 (ipykernel)",
   "language": "python",
   "name": "python3"
  },
  "language_info": {
   "codemirror_mode": {
    "name": "ipython",
    "version": 3
   },
   "file_extension": ".py",
   "mimetype": "text/x-python",
   "name": "python",
   "nbconvert_exporter": "python",
   "pygments_lexer": "ipython3",
   "version": "3.13.2"
  }
 },
 "nbformat": 4,
 "nbformat_minor": 5
}
