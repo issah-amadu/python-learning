{
 "cells": [
  {
   "cell_type": "code",
   "execution_count": 1,
   "id": "7db5d45a-9cc4-4f81-a37a-a32737f4b3aa",
   "metadata": {},
   "outputs": [
    {
     "name": "stdin",
     "output_type": "stream",
     "text": [
      "write a text to be counted: my name is james\n"
     ]
    },
    {
     "name": "stdout",
     "output_type": "stream",
     "text": [
      "2\n",
      "3\n",
      "4\n"
     ]
    }
   ],
   "source": [
    "text=input(\"write a text to be counted:\")\n",
    "count=0\n",
    "for word in text:\n",
    "    if word == \" \" or word == \"\\n\":\n",
    "        count+=1\n",
    "        print(f\"{count+1}\")"
   ]
  },
  {
   "cell_type": "code",
   "execution_count": 2,
   "id": "6593ef6c-0dc6-4ed6-8461-37ac610b5d47",
   "metadata": {},
   "outputs": [
    {
     "name": "stdout",
     "output_type": "stream",
     "text": [
      "4\n"
     ]
    }
   ],
   "source": [
    "words=[\"my\",\"name\",\"is\",\"issa\"]\n",
    "print(len(words))\n"
   ]
  },
  {
   "cell_type": "code",
   "execution_count": null,
   "id": "c7398dfc-72dc-42ee-8d12-b47d3a230888",
   "metadata": {},
   "outputs": [],
   "source": []
  }
 ],
 "metadata": {
  "kernelspec": {
   "display_name": "Python 3 (ipykernel)",
   "language": "python",
   "name": "python3"
  },
  "language_info": {
   "codemirror_mode": {
    "name": "ipython",
    "version": 3
   },
   "file_extension": ".py",
   "mimetype": "text/x-python",
   "name": "python",
   "nbconvert_exporter": "python",
   "pygments_lexer": "ipython3",
   "version": "3.13.2"
  }
 },
 "nbformat": 4,
 "nbformat_minor": 5
}
